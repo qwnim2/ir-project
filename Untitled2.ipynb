{
 "cells": [
  {
   "cell_type": "code",
   "execution_count": 2,
   "metadata": {},
   "outputs": [
    {
     "name": "stdout",
     "output_type": "stream",
     "text": [
      "Enter the query: 過往的事情容易傾斜\n",
      "[0.8677623]\n"
     ]
    }
   ],
   "source": [
    "import torch\n",
    "import operator\n",
    "import os\n",
    "import pickle\n",
    "from sentence_transformers import SentenceTransformer, util\n",
    "model = SentenceTransformer('paraphrase-distilroberta-base-v1')\n",
    "\n",
    "query = input(\"Enter the query: \")\n",
    "query = query\n",
    "query_embedding = model.encode(query, convert_to_tensor=True)\n",
    "shit = model.encode(['往事往往容易傾斜'], convert_to_tensor=True)\n",
    "\n",
    "# for song in song_dict.keys():\n",
    "cos_scores = util.pytorch_cos_sim(query_embedding, shit)[0]\n",
    "cos_scores = cos_scores.cpu()\n",
    "print((cos_scores.numpy()))\n"
   ]
  },
  {
   "cell_type": "code",
   "execution_count": null,
   "metadata": {},
   "outputs": [],
   "source": []
  }
 ],
 "metadata": {
  "kernelspec": {
   "display_name": "Python 3",
   "language": "python",
   "name": "python3"
  },
  "language_info": {
   "codemirror_mode": {
    "name": "ipython",
    "version": 3
   },
   "file_extension": ".py",
   "mimetype": "text/x-python",
   "name": "python",
   "nbconvert_exporter": "python",
   "pygments_lexer": "ipython3",
   "version": "3.7.4"
  }
 },
 "nbformat": 4,
 "nbformat_minor": 4
}
